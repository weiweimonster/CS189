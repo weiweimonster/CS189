{
 "cells": [
  {
   "cell_type": "code",
   "execution_count": 5,
   "id": "646a6383",
   "metadata": {},
   "outputs": [],
   "source": [
    "import numpy as np\n",
    "from scipy import io\n",
    "import scipy.cluster\n",
    "import matplotlib.pyplot as plt"
   ]
  },
  {
   "cell_type": "code",
   "execution_count": 6,
   "id": "5df10749",
   "metadata": {},
   "outputs": [],
   "source": [
    "mnist = io.loadmat(\"data/mnist_data.mat\")\n",
    "mnist_x = mnist[\"training_data\"]\n",
    "mnist_y = mnist[\"training_labels\"]\n",
    "mnist_test = mnist[\"test_data\"]\n",
    "mnist_x = scipy.cluster.vq.whiten(mnist_x)\n",
    "# x, y, val_data, val_label = train_val_split(mnist_x, mnist_y, 10000)"
   ]
  },
  {
   "cell_type": "code",
   "execution_count": 17,
   "id": "53f5923d",
   "metadata": {},
   "outputs": [],
   "source": [
    "class1 = mnist_x[(mnist_y == 1).flatten()]\n",
    "mean = np.mean(class1)"
   ]
  },
  {
   "cell_type": "code",
   "execution_count": 24,
   "id": "2f8780b7",
   "metadata": {},
   "outputs": [
    {
     "data": {
      "text/plain": [
       "(784, 784)"
      ]
     },
     "execution_count": 24,
     "metadata": {},
     "output_type": "execute_result"
    }
   ],
   "source": [
    "np.cov(class1.T, bias = True).shape"
   ]
  },
  {
   "cell_type": "code",
   "execution_count": 23,
   "id": "da1e4c07",
   "metadata": {},
   "outputs": [
    {
     "data": {
      "text/plain": [
       "array([[0.03397237, 0.03397237, 0.03397237, ..., 0.03397237, 0.03397237,\n",
       "        0.03397237],\n",
       "       [0.03397237, 0.03397237, 0.03397237, ..., 0.03397237, 0.03397237,\n",
       "        0.03397237],\n",
       "       [0.03397237, 0.03397237, 0.03397237, ..., 0.03397237, 0.03397237,\n",
       "        0.03397237],\n",
       "       ...,\n",
       "       [0.03397237, 0.03397237, 0.03397237, ..., 0.03397237, 0.03397237,\n",
       "        0.03397237],\n",
       "       [0.03397237, 0.03397237, 0.03397237, ..., 0.03397237, 0.03397237,\n",
       "        0.03397237],\n",
       "       [0.03397237, 0.03397237, 0.03397237, ..., 0.03397237, 0.03397237,\n",
       "        0.03397237]])"
      ]
     },
     "execution_count": 23,
     "metadata": {},
     "output_type": "execute_result"
    }
   ],
   "source": [
    "np.dot((class1-mean).T, (class1-mean))/class1.shape[0]"
   ]
  },
  {
   "cell_type": "code",
   "execution_count": 39,
   "id": "2885c5e5",
   "metadata": {},
   "outputs": [
    {
     "data": {
      "text/plain": [
       "(3, 3)"
      ]
     },
     "execution_count": 39,
     "metadata": {},
     "output_type": "execute_result"
    }
   ],
   "source": [
    "x = np.array([[3,6,4],[4,2,6],[5,7,2]])\n",
    "x.shape"
   ]
  },
  {
   "cell_type": "code",
   "execution_count": 32,
   "id": "7f1a26b6",
   "metadata": {},
   "outputs": [
    {
     "data": {
      "text/plain": [
       "array([[  2.,   1.,  -2.],\n",
       "       [  1.,  14., -10.],\n",
       "       [ -2., -10.,   8.]])"
      ]
     },
     "execution_count": 32,
     "metadata": {},
     "output_type": "execute_result"
    }
   ],
   "source": [
    "\n",
    "mean= np.mean(x, axis = 0)\n",
    "cov = np.dot((x-mean).T, (x-mean))\n",
    "cov"
   ]
  },
  {
   "cell_type": "code",
   "execution_count": 34,
   "id": "05b1bced",
   "metadata": {},
   "outputs": [
    {
     "data": {
      "text/plain": [
       "array([[ 0.66666667,  0.33333333, -0.66666667],\n",
       "       [ 0.33333333,  4.66666667, -3.33333333],\n",
       "       [-0.66666667, -3.33333333,  2.66666667]])"
      ]
     },
     "execution_count": 34,
     "metadata": {},
     "output_type": "execute_result"
    }
   ],
   "source": [
    "np.cov(x.T, bias = True)"
   ]
  },
  {
   "cell_type": "code",
   "execution_count": 40,
   "id": "e3586eda",
   "metadata": {},
   "outputs": [
    {
     "data": {
      "text/plain": [
       "4.333333333333333"
      ]
     },
     "execution_count": 40,
     "metadata": {},
     "output_type": "execute_result"
    }
   ],
   "source": [
    "np.mean(x)"
   ]
  },
  {
   "cell_type": "code",
   "execution_count": null,
   "id": "e30c42d5",
   "metadata": {},
   "outputs": [],
   "source": []
  }
 ],
 "metadata": {
  "kernelspec": {
   "display_name": "Python 3",
   "language": "python",
   "name": "python3"
  },
  "language_info": {
   "codemirror_mode": {
    "name": "ipython",
    "version": 3
   },
   "file_extension": ".py",
   "mimetype": "text/x-python",
   "name": "python",
   "nbconvert_exporter": "python",
   "pygments_lexer": "ipython3",
   "version": "3.8.8"
  }
 },
 "nbformat": 4,
 "nbformat_minor": 5
}
