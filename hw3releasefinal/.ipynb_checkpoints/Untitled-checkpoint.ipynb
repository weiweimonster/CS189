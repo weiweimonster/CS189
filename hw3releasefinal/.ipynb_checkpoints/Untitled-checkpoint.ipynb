{
 "cells": [
  {
   "cell_type": "code",
   "execution_count": 5,
   "id": "1cfa5e31",
   "metadata": {},
   "outputs": [],
   "source": [
    "import numpy as np\n",
    "from scipy import io\n",
    "import scipy.cluster\n",
    "import matplotlib.pyplot as plt"
   ]
  },
  {
   "cell_type": "code",
   "execution_count": 6,
   "id": "9468ef4f",
   "metadata": {},
   "outputs": [],
   "source": [
    "mnist = io.loadmat(\"data/mnist_data.mat\")\n",
    "mnist_x = mnist[\"training_data\"]\n",
    "mnist_y = mnist[\"training_labels\"]\n",
    "mnist_test = mnist[\"test_data\"]\n",
    "mnist_x = scipy.cluster.vq.whiten(mnist_x)\n",
    "# x, y, val_data, val_label = train_val_split(mnist_x, mnist_y, 10000)"
   ]
  },
  {
   "cell_type": "code",
   "execution_count": 14,
   "id": "1ac7c0b6",
   "metadata": {},
   "outputs": [],
   "source": [
    "class1 = nnist_x[(mnist_y == 1).flatten()]\n",
    "mean = np.mean(class1)"
   ]
  },
  {
   "cell_type": "code",
   "execution_count": 15,
   "id": "b0881b77",
   "metadata": {},
   "outputs": [
    {
     "data": {
      "text/plain": [
       "array([[0., 0., 0., ..., 0., 0., 0.],\n",
       "       [0., 0., 0., ..., 0., 0., 0.],\n",
       "       [0., 0., 0., ..., 0., 0., 0.],\n",
       "       ...,\n",
       "       [0., 0., 0., ..., 0., 0., 0.],\n",
       "       [0., 0., 0., ..., 0., 0., 0.],\n",
       "       [0., 0., 0., ..., 0., 0., 0.]])"
      ]
     },
     "execution_count": 15,
     "metadata": {},
     "output_type": "execute_result"
    }
   ],
   "source": [
    "np.cov(mnist_x[class1].T)"
   ]
  },
  {
   "cell_type": "code",
   "execution_count": null,
   "id": "80f98ce2",
   "metadata": {},
   "outputs": [],
   "source": [
    "np.dot()"
   ]
  }
 ],
 "metadata": {
  "kernelspec": {
   "display_name": "Python 3",
   "language": "python",
   "name": "python3"
  },
  "language_info": {
   "codemirror_mode": {
    "name": "ipython",
    "version": 3
   },
   "file_extension": ".py",
   "mimetype": "text/x-python",
   "name": "python",
   "nbconvert_exporter": "python",
   "pygments_lexer": "ipython3",
   "version": "3.8.8"
  }
 },
 "nbformat": 4,
 "nbformat_minor": 5
}
