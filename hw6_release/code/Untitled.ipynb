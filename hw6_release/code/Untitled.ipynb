{
 "cells": [
  {
   "cell_type": "code",
   "execution_count": 1,
   "id": "ead42e1d",
   "metadata": {},
   "outputs": [],
   "source": [
    "import numpy as np"
   ]
  },
  {
   "cell_type": "code",
   "execution_count": 6,
   "id": "88730ba3",
   "metadata": {},
   "outputs": [],
   "source": [
    "a = np.random.rand(4,3,3)"
   ]
  },
  {
   "cell_type": "code",
   "execution_count": 15,
   "id": "ea52341b",
   "metadata": {},
   "outputs": [
    {
     "data": {
      "text/plain": [
       "array([[[0.78751559, 0.89730092, 0.96039889],\n",
       "        [0.02781114, 0.82318994, 0.21879353],\n",
       "        [0.21906046, 0.62469519, 0.55203837]],\n",
       "\n",
       "       [[0.25682076, 0.45925625, 0.53778674],\n",
       "        [0.27732908, 0.53849749, 0.88530811],\n",
       "        [0.36360913, 0.06621106, 0.69441719]],\n",
       "\n",
       "       [[0.8384071 , 0.21592398, 0.81328194],\n",
       "        [0.24017362, 0.74705648, 0.50869672],\n",
       "        [0.03286863, 0.61870103, 0.65438712]],\n",
       "\n",
       "       [[0.88737559, 0.33062896, 0.81409589],\n",
       "        [0.96396016, 0.64758036, 0.89942038],\n",
       "        [0.94469819, 0.98611407, 0.63076482]]])"
      ]
     },
     "execution_count": 15,
     "metadata": {},
     "output_type": "execute_result"
    }
   ],
   "source": [
    "a"
   ]
  },
  {
   "cell_type": "code",
   "execution_count": 13,
   "id": "072c048a",
   "metadata": {},
   "outputs": [],
   "source": [
    "c = np.max(a, axis=(1,2), keepdims=True)"
   ]
  },
  {
   "cell_type": "code",
   "execution_count": 22,
   "id": "c53bd389",
   "metadata": {},
   "outputs": [],
   "source": [
    "mask = (a == c).astype(\"int\")"
   ]
  },
  {
   "cell_type": "code",
   "execution_count": 23,
   "id": "b428ff79",
   "metadata": {},
   "outputs": [
    {
     "data": {
      "text/plain": [
       "array([[[0.        , 0.        , 0.96039889],\n",
       "        [0.        , 0.        , 0.        ],\n",
       "        [0.        , 0.        , 0.        ]],\n",
       "\n",
       "       [[0.        , 0.        , 0.        ],\n",
       "        [0.        , 0.        , 0.88530811],\n",
       "        [0.        , 0.        , 0.        ]],\n",
       "\n",
       "       [[0.8384071 , 0.        , 0.        ],\n",
       "        [0.        , 0.        , 0.        ],\n",
       "        [0.        , 0.        , 0.        ]],\n",
       "\n",
       "       [[0.        , 0.        , 0.        ],\n",
       "        [0.        , 0.        , 0.        ],\n",
       "        [0.        , 0.98611407, 0.        ]]])"
      ]
     },
     "execution_count": 23,
     "metadata": {},
     "output_type": "execute_result"
    }
   ],
   "source": [
    "a * mask"
   ]
  },
  {
   "cell_type": "code",
   "execution_count": null,
   "id": "ae77b2ae",
   "metadata": {},
   "outputs": [],
   "source": []
  }
 ],
 "metadata": {
  "kernelspec": {
   "display_name": "Python 3 (ipykernel)",
   "language": "python",
   "name": "python3"
  },
  "language_info": {
   "codemirror_mode": {
    "name": "ipython",
    "version": 3
   },
   "file_extension": ".py",
   "mimetype": "text/x-python",
   "name": "python",
   "nbconvert_exporter": "python",
   "pygments_lexer": "ipython3",
   "version": "3.9.7"
  }
 },
 "nbformat": 4,
 "nbformat_minor": 5
}
